{
  "cells": [
    {
      "cell_type": "markdown",
      "metadata": {
        "id": "M-DGa20PaHnu"
      },
      "source": [
        "# Задача 1\n",
        "Написать функцию на вход которой подается строка, состоящая из латинских букв.\n",
        "Функция должна вернуть количество гласных букв (a, e, i, o, u) в этой строке. Написать тесты для кода"
      ]
    },
    {
      "cell_type": "code",
      "execution_count": 59,
      "metadata": {
        "id": "XvX8X_JJ6PCb"
      },
      "outputs": [
        {
          "name": "stdout",
          "output_type": "stream",
          "text": [
            "letMekIlliTwithyoU 7\n",
            "Все тесты пройдены!\n"
          ]
        }
      ],
      "source": [
        "# Your code goes here\n",
        "def vowels_counter(string):\n",
        "    count = 0\n",
        "    for letter in string:\n",
        "        if letter in ['a', 'e', 'i', 'o', 'u', 'A', 'E', 'I','O', 'U']:\n",
        "            count += 1\n",
        "    return count\n",
        "\n",
        "def tests():\n",
        "    assert vowels_counter(\"hello\") == 2, \"Тест 1 не пройден\" # Тест 1: Строка с гласными буквами\n",
        "    assert vowels_counter(\"bcdfg\") == 0, \"Тест 2 не пройден\" # Тест 2: Строка без гласных букв\n",
        "    assert vowels_counter(\"\") == 0, \"Тест 3 не пройден\" # Тест 3: Пустая строка\n",
        "    assert vowels_counter(\"AEIOUaeiou\") == 10, \"Тест 4 не пройден\" # Тест 4: Строка с заглавными и строчными гласными\n",
        "    assert vowels_counter(\"123!@ae!\") == 2, \"Тест 5 не пройден\" # Тест 5: Строка с символами и гласными\n",
        "    assert vowels_counter(\"i\") == 1, \"Тест 6 не пройден\" # Тест 6: Строка с одной гласной\n",
        "    assert vowels_counter(\"Lorem ipsum dolor sit amet\") == 9, \"Тест 7 не пройден\" # Тест 7: Длинная строка с различными символами\n",
        "    \n",
        "    print(\"Все тесты пройдены!\")\n",
        "\n",
        "def main():\n",
        "    string = input('Введите строку')\n",
        "    print(string, vowels_counter(string))\n",
        "    tests()\n",
        "\n",
        "if __name__ == \"__main__\":\n",
        "    main()"
      ]
    },
    {
      "cell_type": "markdown",
      "metadata": {
        "id": "t2ClV_Y0bbr6"
      },
      "source": [
        "# Задача 2\n",
        "Написать функцию на вход, которой подается строка. Функция должна вернуть true, если\n",
        "каждый символ в строке встречается только 1 раз, иначе должна вернуть false. Написать тесты для кода"
      ]
    },
    {
      "cell_type": "code",
      "execution_count": 41,
      "metadata": {
        "id": "FppbECao6VIz"
      },
      "outputs": [
        {
          "name": "stdout",
          "output_type": "stream",
          "text": [
            "\"dkfv\" True\n",
            "Все тесты пройдены!\n"
          ]
        }
      ],
      "source": [
        "# Your code goes here\n",
        "def contains_repeating(string):\n",
        "    func_set = set()\n",
        "    string = ''.join(string.split())\n",
        "    for symbol in string:\n",
        "        func_set.add(symbol)\n",
        "    if len(string) == len(func_set): return True\n",
        "    else: return False\n",
        "\n",
        "def test():\n",
        "    assert contains_repeating(\"abcdef\") == True, \"Тест 1 не пройден\" # Тест 1: Строка с уникальными символами\n",
        "    assert contains_repeating(\"hello\") == False, \"Тест 2 не пройден\" # Тест 2: Строка с повторяющимися символами\n",
        "    assert contains_repeating(\"\") == True, \"Тест 3 не пройден\" # Тест 3: Пустая строка\n",
        "    assert contains_repeating(\"a\") == True, \"Тест 4 не пройден\" # Тест 4: Строка с одним символом\n",
        "    assert contains_repeating(\"a b c\") == True, \"Тест 5 не пройден\" # Тест 5: Строка с пробелами и уникальными символами\n",
        "    assert contains_repeating(\"a b a\") == False, \"Тест 6 не пройден\" # Тест 6: Строка с пробелами и повторяющимися символами\n",
        "    assert contains_repeating(\"AaBbCc\") == True, \"Тест 7 не пройден\" # Тест 7: Строка с повторяющимися символами в разном регистре\n",
        "\n",
        "    print(\"Все тесты пройдены!\")\n",
        "\n",
        "def main():\n",
        "    string = input('Введите строку')\n",
        "    print(f'\"{string}\"', contains_repeating(string))\n",
        "\n",
        "    test()\n",
        "\n",
        "if __name__ == \"__main__\":\n",
        "    main()"
      ]
    },
    {
      "cell_type": "markdown",
      "metadata": {
        "id": "udRiIK1cdt6E"
      },
      "source": [
        "# Задача 3\n",
        "Написать функцию, которая принимает положительное число и возвращает количество\n",
        "бит равных 1 в этом числе. Написать тесты для кода"
      ]
    },
    {
      "cell_type": "code",
      "execution_count": 37,
      "metadata": {
        "id": "6tkfDJRz6dp_"
      },
      "outputs": [
        {
          "name": "stdout",
          "output_type": "stream",
          "text": [
            "23 0b10111 4\n",
            "Все тесты пройдены!\n"
          ]
        }
      ],
      "source": [
        "# Your code goes here\n",
        "def one_counter(number):\n",
        "    number = str(bin(number))\n",
        "    return number.count('1')\n",
        "\n",
        "def test_counter():\n",
        "    \n",
        "    assert one_counter(0) == 0, \"Тест 1 не пройден\" # Тест 1: Число 0 (нет единиц в двоичном представлении)\n",
        "    assert one_counter(1) == 1, \"Тест 2 не пройден\" # Тест 2: Число 1 (в двоичной системе это 1)\n",
        "    assert one_counter(5) == 2, \"Тест 3 не пройден\" # Тест 3: Число 5 (в двоичной системе 101, две единицы)\n",
        "    assert one_counter(7) == 3, \"Тест 4 не пройден\" # Тест 4: Число 7 (в двоичной системе 111, три единицы)\n",
        "    assert one_counter(16) == 1, \"Тест 5 не пройден\" # Тест 5: Число 16 (в двоичной системе 10000, одна единица)\n",
        "    assert one_counter(123456789) == 16, \"Тест 6 не пройден\" # Тест 6: Проверка большого числа\n",
        "    try:\n",
        "        one_counter(-5)\n",
        "    except ValueError as e:\n",
        "        assert str(e) == \"Число должно быть положительным\", \"Тест 7 не пройден\" # Тест 7: Проверка исключения на отрицательные числа\n",
        "    \n",
        "    print(\"Все тесты пройдены!\")\n",
        "\n",
        "def main():\n",
        "    number = int(input('Введите число'))\n",
        "    print(number,bin(number), one_counter(number))\n",
        "\n",
        "    test_counter()\n",
        "\n",
        "if __name__ == \"__main__\":\n",
        "    main()"
      ]
    },
    {
      "cell_type": "markdown",
      "metadata": {
        "id": "26dDUz-Ae17N"
      },
      "source": [
        "# Задача 4\n",
        "Написать функцию, которая принимает положительное число. Функция должна вернуть то,\n",
        "сколько раз необходимо перемножать цифры числа или результат перемножения, чтобы\n",
        "получилось число состоящее из одной цифры.\n",
        "Например, для входного числа:\n",
        "· 39 функция должна вернуть 3, так как 3*9=27 => 2*7=14 => 1*4=4\n",
        "· 4 функция должна вернуть 0, так как число уже состоит из одной цифры\n",
        "· 999 функция должна вернуть 4, так как 9*9*9=729 => 7*2*9=126 => 1*2*6=12 =>\n",
        "1*2=2. Написать тесты для кода"
      ]
    },
    {
      "cell_type": "code",
      "execution_count": 36,
      "metadata": {
        "id": "BH1A_Mgi6i4G"
      },
      "outputs": [
        {
          "name": "stdout",
          "output_type": "stream",
          "text": [
            "999 4\n",
            "Все тесты пройдены!\n"
          ]
        }
      ],
      "source": [
        "def magic(n):\n",
        "    # Your code goes here\n",
        "    n = str(n)\n",
        "    count =  0\n",
        "    while (len(n) != 1):\n",
        "        multiplication = 1\n",
        "        for symbol in n:\n",
        "            multiplication *= int(symbol)\n",
        "        n = str(multiplication)\n",
        "        count += 1\n",
        "    return count\n",
        "\n",
        "def test_magic():\n",
        "    assert magic(39) == 3, \"Тест 1 не пройден\" # Тест 1: Пример с числа 39\n",
        "    assert magic(4) == 0, \"Тест 2 не пройден\" # Тест 2: Пример с числа 4 (одноцифровое число)\n",
        "    assert magic(999) == 4, \"Тест 3 не пройден\" # Тест 3: Пример с числа 999\n",
        "    assert magic(25) == 2, \"Тест 4 не пройден\" # Тест 4: Пример с числа 25\n",
        "    assert magic(1) == 0, \"Тест 5 не пройден\"  # Тест 5: Пример с числа 1 (одноцифровое число)\n",
        "    assert magic(77) == 4, \"Тест 6 не пройден\" # Тест 6: Пример с числа 77\n",
        "\n",
        "    print(\"Все тесты пройдены!\")\n",
        "\n",
        "\n",
        "def main(): \n",
        "    n = int(input('Введите число'))\n",
        "    print(n, magic(n))\n",
        "\n",
        "    test_magic()\n",
        "\n",
        "if __name__ == \"__main__\":\n",
        "    main()"
      ]
    },
    {
      "cell_type": "markdown",
      "metadata": {
        "id": "0nS-kIa8g8vd"
      },
      "source": [
        "# Задача 5\n",
        "Написать функцию, которая принимает два целочисленных вектора одинаковой длины и\n",
        "возвращает среднеквадратическое отклонение двух векторов. Написать тесты для кода"
      ]
    },
    {
      "cell_type": "code",
      "execution_count": 32,
      "metadata": {
        "id": "8iphx4LM6xbx"
      },
      "outputs": [
        {
          "name": "stdout",
          "output_type": "stream",
          "text": [
            "Среднеквадратическое отклонение: 0.8944271909999159\n",
            "Все тесты пройдены!\n"
          ]
        }
      ],
      "source": [
        "import math\n",
        "def mse(pred, true):\n",
        "    # Your code goes here\n",
        "    if len(pred) != len(true):\n",
        "        raise ValueError(\"Вектора должны быть одинаковой длины\")\n",
        "    \n",
        "    n = len(pred)\n",
        "    if n == 0:\n",
        "        raise ValueError(\"Вектора не должны быть пустыми\")\n",
        "\n",
        "    squared_diff_sum = 0\n",
        "    for i in range(n):\n",
        "        squared_diff_sum += (pred[i] - true[i]) ** 2\n",
        "\n",
        "    mean_squared_diff = squared_diff_sum / n\n",
        "    return math.sqrt(mean_squared_diff)\n",
        "\n",
        "def test_mse():\n",
        "    pred = [1, 2, 3, 4, 5]\n",
        "    true = [1, 2, 3, 4, 5]\n",
        "    assert mse(pred, true) == 0, \"Тест 1 не пройден\" # Тест 1: Обычные вектора одинаковой длины\n",
        "\n",
        "    pred = [1, 2, 3, 4, 5]\n",
        "    true = [2, 3, 4, 5, 6]\n",
        "    expected_result = math.sqrt(1)\n",
        "    assert mse(pred, true) == expected_result, \"Тест 2 не пройден\" # Тест 2: Вектора с разными значениями\n",
        "\n",
        "    pred = [0, 0, 0, 0, 0]\n",
        "    true = [0, 0, 0, 0, 0]\n",
        "    assert mse(pred, true) == 0, \"Тест 3 не пройден\" # Тест 3: Проверка с нулями\n",
        "\n",
        "    pred = [-1, -2, -3, -4, -5]\n",
        "    true = [1, 2, 3, 4, 5]\n",
        "    expected_result = math.sqrt(44)\n",
        "    assert mse(pred, true) == expected_result, \"Тест 4 не пройден\" # Тест 4: Отрицательные числа\n",
        "    try:\n",
        "        mse([], [])\n",
        "    except ValueError as e:\n",
        "        assert str(e) == \"Вектора не должны быть пустыми\", \"Тест 5 не пройден\" # Тест 5: Пустые вектора\n",
        "    \n",
        "    try:\n",
        "        mse([1, 2, 3], [1, 2])\n",
        "    except ValueError as e:\n",
        "        assert str(e) == \"Вектора должны быть одинаковой длины\", \"Тест 6 не пройден\" # Тест 6: Вектора разной длины\n",
        "\n",
        "    print(\"Все тесты пройдены!\")\n",
        "\n",
        "def main():\n",
        "    pred = [1, 2, 3, 4, 5]\n",
        "    true = [1, 3, 2, 5, 4]\n",
        "\n",
        "    result = mse(pred, true)\n",
        "    print(f\"Среднеквадратическое отклонение: {result}\")\n",
        "\n",
        "    test_mse()\n",
        "\n",
        "if __name__ == \"__main__\":\n",
        "    main()"
      ]
    },
    {
      "cell_type": "markdown",
      "metadata": {
        "id": "vpIPKL439zkw"
      },
      "source": [
        "# Задача 6\n",
        "Написать функцию, принимающая целое положительное число. Функция должна вернуть\n",
        "строку вида “(n1**p1)(n2**p2)…(nk**pk)” представляющая разложение числа на простые\n",
        "множители (если pi == 1, то выводить только ni).\n",
        "Например, для числа 86240 функция должна вернуть “(2**5)(5)(7**2)(11)”. Написать тесты для кода"
      ]
    },
    {
      "cell_type": "code",
      "execution_count": 52,
      "metadata": {
        "id": "pFebmcZk94Jw"
      },
      "outputs": [
        {
          "name": "stdout",
          "output_type": "stream",
          "text": [
            "35422 (2)(89)(199)\n",
            "Все тесты пройдены!\n"
          ]
        }
      ],
      "source": [
        "# Your code goes here\n",
        "def divider(number):\n",
        "    factors, divisor = {}, 2\n",
        "    result = ''\n",
        "    while number > 1:\n",
        "        count = 0  \n",
        "        while number % divisor == 0:  \n",
        "            number //= divisor\n",
        "            count += 1\n",
        "        if count > 0:\n",
        "            factors[divisor] = count  \n",
        "        divisor += 1\n",
        "    for factor, power in factors.items():\n",
        "        if power == 1:\n",
        "            result += f\"({factor})\"\n",
        "        else:\n",
        "            result += f\"({factor}**{power})\"\n",
        "    return result\n",
        "def test_divider():\n",
        "    assert divider(86240) == \"(2**5)(5)(7**2)(11)\", \"Тест 1 не пройден\" # Тест 1: Разложение числа 86240\n",
        "    assert divider(100) == \"(2**2)(5**2)\", \"Тест 2 не пройден\" # Тест 2: Разложение числа 100\n",
        "    assert divider(13) == \"(13)\", \"Тест 3 не пройден\" # Тест 3: Простое число (например, 13)\n",
        "    assert divider(16) == \"(2**4)\", \"Тест 4 не пройден\" # Тест 4: Число, которое является степенью одного простого числа\n",
        "    assert divider(1) == \"\", \"Тест 5 не пройден\" # Тест 5: Число 1 (нет простых множителей)\n",
        "    assert divider(2) == \"(2)\", \"Тест 6 не пройден\" # Тест 6: Разложение числа 2\n",
        "    \n",
        "    print(\"Все тесты пройдены!\")\n",
        "\n",
        "def main():\n",
        "    number = int(input('Введите число'))\n",
        "    print(number, divider(number))\n",
        "\n",
        "    test_divider()\n",
        "\n",
        "if __name__ == \"__main__\":\n",
        "    main()"
      ]
    },
    {
      "cell_type": "markdown",
      "metadata": {
        "id": "ps2s0BudX7A2"
      },
      "source": [
        "# Задача 7\n",
        "Написать функцию, принимающая целое число n, задающее количество кубиков. Функция\n",
        "должна определить, можно ли из данного кол-ва кубиков построить пирамиду, то есть\n",
        "можно ли представить число n как 1^2+2^2+3^2+…+k^2. Если можно, то функция должна\n",
        "вернуть k, иначе строку “It is impossible”. Написать тесты для кода"
      ]
    },
    {
      "cell_type": "code",
      "execution_count": 57,
      "metadata": {
        "id": "3YPjEXxhX_YT"
      },
      "outputs": [
        {
          "name": "stdout",
          "output_type": "stream",
          "text": [
            "56 it is impossible\n",
            "Все тесты пройдены!\n"
          ]
        }
      ],
      "source": [
        "def pyramid(number):\n",
        "    # Your code goes here\n",
        "    total, k = 0, 0\n",
        "    while (total < number):\n",
        "        k += 1\n",
        "        total += k**2\n",
        "    if total == number and number != 0: return k\n",
        "    else: return \"it is impossible\"\n",
        "\n",
        "def test_pyramid():\n",
        "    assert pyramid(5) == 2, \"Тест 1 не пройден\" # Тест 1: number = 5 (1^2 + 2^2)\n",
        "    assert pyramid(14) == 3, \"Тест 2 не пройден\" # Тест 2: number = 14 (1^2 + 2^2 + 3^2)\n",
        "    assert pyramid(30) == 4, \"Тест 3 не пройден\" # Тест 3: number = 30 (1^2 + 2^2 + 3^2 + 4^2)\n",
        "    assert pyramid(6) == \"it is impossible\", \"Тест 4 не пройден\" # Тест 4: number = 6 (нельзя построить пирамиду)\n",
        "    assert pyramid(1) == 1, \"Тест 5 не пройден\"  # Тест 5: number = 1 (1^2)\n",
        "    assert pyramid(0) == \"it is impossible\", \"Тест 6 не пройден\" # Тест 6: number = 0 (нельзя построить пирамиду)\n",
        "    \n",
        "    print(\"Все тесты пройдены!\")\n",
        "\n",
        "def main():\n",
        "    number = int(input('Введите число'))\n",
        "    print(number, pyramid(number))\n",
        "    test_pyramid()\n",
        "\n",
        "if __name__ == \"__main__\":\n",
        "    main()"
      ]
    },
    {
      "cell_type": "markdown",
      "metadata": {
        "id": "KeKgmIdAQMEJ"
      },
      "source": [
        "# Задача 8\n",
        "Функция принимает на вход положительное число и определяет является ли оно сбалансированным, т.е. сумма цифр до средних равна сумме цифр после. Средними в случае нечетного числа цифр считать одну цифру, в случае четного - две средних. Написать тесты для кода"
      ]
    },
    {
      "cell_type": "code",
      "execution_count": 58,
      "metadata": {
        "id": "gMAAqtqlQrZt"
      },
      "outputs": [
        {
          "name": "stdout",
          "output_type": "stream",
          "text": [
            "1234523 False\n"
          ]
        }
      ],
      "source": [
        "# Your code goes here\n",
        "def is_balanced_number(number):\n",
        "    number = str(number)\n",
        "    mid = len(number) // 2\n",
        "    if len(number) % 2 == 1:\n",
        "        left_half = number[:mid]\n",
        "        right_half = number[mid + 1:]\n",
        "    else:\n",
        "        left_half = number[:mid-1]\n",
        "        right_half = number[mid+1:]\n",
        "    left_half = sum(int(digit) for digit in left_half)\n",
        "    right_half = sum(int(digit) for digit in right_half)\n",
        "    return left_half == right_half\n",
        "\n",
        "def test_balance():\n",
        "    assert is_balanced_number(123321) == True, \"Тест 1 не пройден\" # Тест 1: четное количество цифр, сумма до и после средних равна\n",
        "    assert is_balanced_number(1234321) == True, \"Тест 2 не пройден\" # Тест 2: нечетное количество цифр, сумма до и после средних равна\n",
        "    assert is_balanced_number(123456) == False, \"Тест 3 не пройден\" # Тест 3: четное количество цифр, сумма до и после средних не равна\n",
        "    assert is_balanced_number(1234322) == False, \"Тест 4 не пройден\" # Тест 4: нечетное количество цифр, сумма до и после средних не равна\n",
        "    assert is_balanced_number(5) == True, \"Тест 5 не пройден\" # Тест 5: одноразрядное число (не имеет средних)\n",
        "    assert is_balanced_number(42) == True, \"Тест 6 не пройден\" # Тест 6: двухразрядное число (не имеет средних)\n",
        "    \n",
        "    print(\"Все тесты пройдены!\")\n",
        "\n",
        "def main():\n",
        "    number = int(input())\n",
        "    print(number, is_balanced_number(number))\n",
        "\n",
        "if __name__ == \"__main__\":\n",
        "    main()"
      ]
    }
  ],
  "metadata": {
    "colab": {
      "provenance": []
    },
    "kernelspec": {
      "display_name": "Python 3",
      "name": "python3"
    },
    "language_info": {
      "codemirror_mode": {
        "name": "ipython",
        "version": 3
      },
      "file_extension": ".py",
      "mimetype": "text/x-python",
      "name": "python",
      "nbconvert_exporter": "python",
      "pygments_lexer": "ipython3",
      "version": "3.11.9"
    }
  },
  "nbformat": 4,
  "nbformat_minor": 0
}
